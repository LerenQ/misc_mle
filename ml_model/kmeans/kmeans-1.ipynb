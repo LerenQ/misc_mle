{
 "cells": [
  {
   "cell_type": "code",
   "execution_count": 1,
   "metadata": {},
   "outputs": [],
   "source": [
    "import numpy as np # linear algebra\n",
    "import pandas as pd # data processing, CSV file I/O (e.g. pd.read_csv)\n",
    "import os\n",
    "import matplotlib.pyplot as plt\n",
    "import seaborn as sns\n",
    "sns.set(context=\"notebook\", palette=\"Spectral\", style = 'darkgrid' ,font_scale = 1.5, color_codes=True)"
   ]
  },
  {
   "cell_type": "code",
   "execution_count": 2,
   "metadata": {},
   "outputs": [],
   "source": [
    "%matplotlib inline"
   ]
  },
  {
   "cell_type": "code",
   "execution_count": 5,
   "metadata": {},
   "outputs": [],
   "source": [
    "# Importing the dataset\n",
    "dataset = pd.read_csv('Mall_Customers.csv',index_col='CustomerID')"
   ]
  },
  {
   "cell_type": "code",
   "execution_count": 6,
   "metadata": {},
   "outputs": [
    {
     "data": {
      "text/html": [
       "<div>\n",
       "<style scoped>\n",
       "    .dataframe tbody tr th:only-of-type {\n",
       "        vertical-align: middle;\n",
       "    }\n",
       "\n",
       "    .dataframe tbody tr th {\n",
       "        vertical-align: top;\n",
       "    }\n",
       "\n",
       "    .dataframe thead th {\n",
       "        text-align: right;\n",
       "    }\n",
       "</style>\n",
       "<table border=\"1\" class=\"dataframe\">\n",
       "  <thead>\n",
       "    <tr style=\"text-align: right;\">\n",
       "      <th></th>\n",
       "      <th>Genre</th>\n",
       "      <th>Age</th>\n",
       "      <th>Annual_Income_(k$)</th>\n",
       "      <th>Spending_Score</th>\n",
       "    </tr>\n",
       "    <tr>\n",
       "      <th>CustomerID</th>\n",
       "      <th></th>\n",
       "      <th></th>\n",
       "      <th></th>\n",
       "      <th></th>\n",
       "    </tr>\n",
       "  </thead>\n",
       "  <tbody>\n",
       "    <tr>\n",
       "      <th>1</th>\n",
       "      <td>Male</td>\n",
       "      <td>19</td>\n",
       "      <td>15</td>\n",
       "      <td>39</td>\n",
       "    </tr>\n",
       "    <tr>\n",
       "      <th>2</th>\n",
       "      <td>Male</td>\n",
       "      <td>21</td>\n",
       "      <td>15</td>\n",
       "      <td>81</td>\n",
       "    </tr>\n",
       "    <tr>\n",
       "      <th>3</th>\n",
       "      <td>Female</td>\n",
       "      <td>20</td>\n",
       "      <td>16</td>\n",
       "      <td>6</td>\n",
       "    </tr>\n",
       "    <tr>\n",
       "      <th>4</th>\n",
       "      <td>Female</td>\n",
       "      <td>23</td>\n",
       "      <td>16</td>\n",
       "      <td>77</td>\n",
       "    </tr>\n",
       "    <tr>\n",
       "      <th>5</th>\n",
       "      <td>Female</td>\n",
       "      <td>31</td>\n",
       "      <td>17</td>\n",
       "      <td>40</td>\n",
       "    </tr>\n",
       "  </tbody>\n",
       "</table>\n",
       "</div>"
      ],
      "text/plain": [
       "             Genre  Age  Annual_Income_(k$)  Spending_Score\n",
       "CustomerID                                                 \n",
       "1             Male   19                  15              39\n",
       "2             Male   21                  15              81\n",
       "3           Female   20                  16               6\n",
       "4           Female   23                  16              77\n",
       "5           Female   31                  17              40"
      ]
     },
     "execution_count": 6,
     "metadata": {},
     "output_type": "execute_result"
    }
   ],
   "source": [
    "dataset.head()"
   ]
  },
  {
   "cell_type": "code",
   "execution_count": 7,
   "metadata": {},
   "outputs": [
    {
     "name": "stdout",
     "output_type": "stream",
     "text": [
      "<class 'pandas.core.frame.DataFrame'>\n",
      "Int64Index: 200 entries, 1 to 200\n",
      "Data columns (total 4 columns):\n",
      " #   Column              Non-Null Count  Dtype \n",
      "---  ------              --------------  ----- \n",
      " 0   Genre               200 non-null    object\n",
      " 1   Age                 200 non-null    int64 \n",
      " 2   Annual_Income_(k$)  200 non-null    int64 \n",
      " 3   Spending_Score      200 non-null    int64 \n",
      "dtypes: int64(3), object(1)\n",
      "memory usage: 7.8+ KB\n"
     ]
    }
   ],
   "source": [
    "dataset.info()"
   ]
  },
  {
   "cell_type": "code",
   "execution_count": 8,
   "metadata": {},
   "outputs": [
    {
     "data": {
      "text/html": [
       "<div>\n",
       "<style scoped>\n",
       "    .dataframe tbody tr th:only-of-type {\n",
       "        vertical-align: middle;\n",
       "    }\n",
       "\n",
       "    .dataframe tbody tr th {\n",
       "        vertical-align: top;\n",
       "    }\n",
       "\n",
       "    .dataframe thead th {\n",
       "        text-align: right;\n",
       "    }\n",
       "</style>\n",
       "<table border=\"1\" class=\"dataframe\">\n",
       "  <thead>\n",
       "    <tr style=\"text-align: right;\">\n",
       "      <th></th>\n",
       "      <th>Age</th>\n",
       "      <th>Annual_Income_(k$)</th>\n",
       "      <th>Spending_Score</th>\n",
       "    </tr>\n",
       "  </thead>\n",
       "  <tbody>\n",
       "    <tr>\n",
       "      <th>count</th>\n",
       "      <td>200.000000</td>\n",
       "      <td>200.000000</td>\n",
       "      <td>200.000000</td>\n",
       "    </tr>\n",
       "    <tr>\n",
       "      <th>mean</th>\n",
       "      <td>38.850000</td>\n",
       "      <td>60.560000</td>\n",
       "      <td>50.200000</td>\n",
       "    </tr>\n",
       "    <tr>\n",
       "      <th>std</th>\n",
       "      <td>13.969007</td>\n",
       "      <td>26.264721</td>\n",
       "      <td>25.823522</td>\n",
       "    </tr>\n",
       "    <tr>\n",
       "      <th>min</th>\n",
       "      <td>18.000000</td>\n",
       "      <td>15.000000</td>\n",
       "      <td>1.000000</td>\n",
       "    </tr>\n",
       "    <tr>\n",
       "      <th>25%</th>\n",
       "      <td>28.750000</td>\n",
       "      <td>41.500000</td>\n",
       "      <td>34.750000</td>\n",
       "    </tr>\n",
       "    <tr>\n",
       "      <th>50%</th>\n",
       "      <td>36.000000</td>\n",
       "      <td>61.500000</td>\n",
       "      <td>50.000000</td>\n",
       "    </tr>\n",
       "    <tr>\n",
       "      <th>75%</th>\n",
       "      <td>49.000000</td>\n",
       "      <td>78.000000</td>\n",
       "      <td>73.000000</td>\n",
       "    </tr>\n",
       "    <tr>\n",
       "      <th>max</th>\n",
       "      <td>70.000000</td>\n",
       "      <td>137.000000</td>\n",
       "      <td>99.000000</td>\n",
       "    </tr>\n",
       "  </tbody>\n",
       "</table>\n",
       "</div>"
      ],
      "text/plain": [
       "              Age  Annual_Income_(k$)  Spending_Score\n",
       "count  200.000000          200.000000      200.000000\n",
       "mean    38.850000           60.560000       50.200000\n",
       "std     13.969007           26.264721       25.823522\n",
       "min     18.000000           15.000000        1.000000\n",
       "25%     28.750000           41.500000       34.750000\n",
       "50%     36.000000           61.500000       50.000000\n",
       "75%     49.000000           78.000000       73.000000\n",
       "max     70.000000          137.000000       99.000000"
      ]
     },
     "execution_count": 8,
     "metadata": {},
     "output_type": "execute_result"
    }
   ],
   "source": [
    "dataset.describe()"
   ]
  },
  {
   "cell_type": "code",
   "execution_count": 9,
   "metadata": {},
   "outputs": [
    {
     "data": {
      "text/plain": [
       "Genre                 0\n",
       "Age                   0\n",
       "Annual_Income_(k$)    0\n",
       "Spending_Score        0\n",
       "dtype: int64"
      ]
     },
     "execution_count": 9,
     "metadata": {},
     "output_type": "execute_result"
    }
   ],
   "source": [
    "dataset.isnull().sum()"
   ]
  },
  {
   "cell_type": "code",
   "execution_count": 10,
   "metadata": {},
   "outputs": [],
   "source": [
    "dataset.drop_duplicates(inplace=True)"
   ]
  },
  {
   "cell_type": "code",
   "execution_count": 11,
   "metadata": {},
   "outputs": [],
   "source": [
    "# using only Spending_Score and income variable for easy visualisation\n",
    "X = dataset.iloc[:, [2, 3]].values"
   ]
  },
  {
   "cell_type": "code",
   "execution_count": 15,
   "metadata": {},
   "outputs": [],
   "source": [
    "# Using the elbow method to find the optimal number of clusters\n",
    "from sklearn.cluster import KMeans\n",
    "wcss = []\n",
    "for i in range(1, 11):\n",
    "    kmeans = KMeans(n_clusters = i, init = 'k-means++', random_state = 42)\n",
    "    kmeans.fit(X)\n",
    "    # inertia method returns wcss for that model\n",
    "    wcss.append(kmeans.inertia_)"
   ]
  },
  {
   "cell_type": "code",
   "execution_count": 16,
   "metadata": {},
   "outputs": [
    {
     "name": "stderr",
     "output_type": "stream",
     "text": [
      "/Users/qianleren/anaconda3/envs/dissertation/lib/python3.8/site-packages/seaborn/_decorators.py:36: FutureWarning: Pass the following variables as keyword args: x, y. From version 0.12, the only valid positional argument will be `data`, and passing other arguments without an explicit keyword will result in an error or misinterpretation.\n",
      "  warnings.warn(\n"
     ]
    },
    {
     "data": {
      "image/png": "[encoded data removed]",
      "text/plain": [
       "<Figure size 720x360 with 1 Axes>"
      ]
     },
     "metadata": {
      "needs_background": "light"
     },
     "output_type": "display_data"
    }
   ],
   "source": [
    "plt.figure(figsize=(10,5))\n",
    "sns.lineplot(range(1, 11), wcss,marker='o',color='red')\n",
    "plt.title('The Elbow Method')\n",
    "plt.xlabel('Number of clusters')\n",
    "plt.ylabel('WCSS')\n",
    "plt.show()"
   ]
  },
  {
   "cell_type": "code",
   "execution_count": 17,
   "metadata": {},
   "outputs": [],
   "source": [
    "# Fitting K-Means to the dataset\n",
    "kmeans = KMeans(n_clusters = 5, init = 'k-means++', random_state = 42)\n",
    "y_kmeans = kmeans.fit_predict(X)"
   ]
  },
  {
   "cell_type": "code",
   "execution_count": 18,
   "metadata": {},
   "outputs": [
    {
     "name": "stderr",
     "output_type": "stream",
     "text": [
      "/Users/qianleren/anaconda3/envs/dissertation/lib/python3.8/site-packages/seaborn/_decorators.py:36: FutureWarning: Pass the following variables as keyword args: x, y. From version 0.12, the only valid positional argument will be `data`, and passing other arguments without an explicit keyword will result in an error or misinterpretation.\n",
      "  warnings.warn(\n",
      "/Users/qianleren/anaconda3/envs/dissertation/lib/python3.8/site-packages/seaborn/_decorators.py:36: FutureWarning: Pass the following variables as keyword args: x, y. From version 0.12, the only valid positional argument will be `data`, and passing other arguments without an explicit keyword will result in an error or misinterpretation.\n",
      "  warnings.warn(\n",
      "/Users/qianleren/anaconda3/envs/dissertation/lib/python3.8/site-packages/seaborn/_decorators.py:36: FutureWarning: Pass the following variables as keyword args: x, y. From version 0.12, the only valid positional argument will be `data`, and passing other arguments without an explicit keyword will result in an error or misinterpretation.\n",
      "  warnings.warn(\n",
      "/Users/qianleren/anaconda3/envs/dissertation/lib/python3.8/site-packages/seaborn/_decorators.py:36: FutureWarning: Pass the following variables as keyword args: x, y. From version 0.12, the only valid positional argument will be `data`, and passing other arguments without an explicit keyword will result in an error or misinterpretation.\n",
      "  warnings.warn(\n",
      "/Users/qianleren/anaconda3/envs/dissertation/lib/python3.8/site-packages/seaborn/_decorators.py:36: FutureWarning: Pass the following variables as keyword args: x, y. From version 0.12, the only valid positional argument will be `data`, and passing other arguments without an explicit keyword will result in an error or misinterpretation.\n",
      "  warnings.warn(\n",
      "/Users/qianleren/anaconda3/envs/dissertation/lib/python3.8/site-packages/seaborn/_decorators.py:36: FutureWarning: Pass the following variables as keyword args: x, y. From version 0.12, the only valid positional argument will be `data`, and passing other arguments without an explicit keyword will result in an error or misinterpretation.\n",
      "  warnings.warn(\n"
     ]
    },
    {
     "data": {
      "image/png": "[encoded data removed]",
      "text/plain": [
       "<Figure size 1080x504 with 1 Axes>"
      ]
     },
     "metadata": {
      "needs_background": "light"
     },
     "output_type": "display_data"
    }
   ],
   "source": [
    "# Visualising the clusters\n",
    "plt.figure(figsize=(15,7))\n",
    "sns.scatterplot(X[y_kmeans == 0, 0], X[y_kmeans == 0, 1], color = 'yellow', label = 'Cluster 1',s=50)\n",
    "sns.scatterplot(X[y_kmeans == 1, 0], X[y_kmeans == 1, 1], color = 'blue', label = 'Cluster 2',s=50)\n",
    "sns.scatterplot(X[y_kmeans == 2, 0], X[y_kmeans == 2, 1], color = 'green', label = 'Cluster 3',s=50)\n",
    "sns.scatterplot(X[y_kmeans == 3, 0], X[y_kmeans == 3, 1], color = 'grey', label = 'Cluster 4',s=50)\n",
    "sns.scatterplot(X[y_kmeans == 4, 0], X[y_kmeans == 4, 1], color = 'orange', label = 'Cluster 5',s=50)\n",
    "sns.scatterplot(kmeans.cluster_centers_[:, 0], kmeans.cluster_centers_[:, 1], color = 'red', \n",
    "                label = 'Centroids',s=300,marker=',')\n",
    "plt.grid(False)\n",
    "plt.title('Clusters of customers')\n",
    "plt.xlabel('Annual Income (k$)')\n",
    "plt.ylabel('Spending Score (1-100)')\n",
    "plt.legend()\n",
    "plt.show()"
   ]
  },
  {
   "cell_type": "code",
   "execution_count": 16,
   "metadata": {},
   "outputs": [],
   "source": [
    "def k_means(k, i_point, data):\n",
    "    # Initial center\n",
    "    length = len(data)\n",
    "    centeriods = {}\n",
    "    n = 0\n",
    "    delta = float(\"inf\")\n",
    "    obj_old = float(\"inf\")\n",
    "\n",
    "#     # for kmeans without given initial\n",
    "#     while (len(centeriods) < k):\n",
    "#         num = np.random.randint(length)\n",
    "#         if num not in centeriods:\n",
    "#             x1, x2 = data[num]\n",
    "#             centeriods[n] = [x1, x2]\n",
    "#             n += 1\n",
    "\n",
    "#     # for kmeansPlus\n",
    "#     centeriods[0] = i_point\n",
    "    \n",
    "#     measure = {}\n",
    "#     select = 0\n",
    "#     for i in range(1, k):\n",
    "#         value = 0\n",
    "#         for j in range(length):\n",
    "#             check = True\n",
    "#             for t in centeriods:\n",
    "#                 if centeriods[t][0] == data[j][0] and centeriods[t][1] == data[j][1]:\n",
    "#                     check = False\n",
    "            \n",
    "#             if check == True:\n",
    "#                 measure[j] = np.average([np.linalg.norm(data[j] - centeriods[p]) for p in centeriods])\n",
    "#                 if measure[j] >= value:\n",
    "#                     value = measure[j]\n",
    "#                     select = j\n",
    "\n",
    "#         centeriods[i] = data[select]\n",
    "# #         print(select)\n",
    "#     print(centeriods)\n",
    "\n",
    "    for temp in range(k):\n",
    "        centeriods[temp] = i_point[temp]\n",
    "    \n",
    "    while (delta != 0):\n",
    "        # grouping\n",
    "        dist = {}\n",
    "        match = {}\n",
    "        for i in range(length):\n",
    "            score = float(\"inf\")\n",
    "            for j in centeriods:\n",
    "                dist[i, j] = np.linalg.norm(data[i] - centeriods[j])\n",
    "                if dist[i, j] <= score:\n",
    "                    score = dist[i, j]\n",
    "                    match[i] = j\n",
    "        \n",
    "        obj_new = sum(dist[i, match[i]] for i in match)\n",
    "        print(obj_new)\n",
    "        delta = obj_old - obj_new\n",
    "        print(delta)\n",
    "        obj_old = obj_new\n",
    "        loss = sum(dist[i, match[i]]**2 for i in match)\n",
    "\n",
    "        group = {}\n",
    "        for i in centeriods:\n",
    "            group[i] = []\n",
    "        \n",
    "        \n",
    "        for temp in match:\n",
    "            group[match[temp]].append(temp)\n",
    "#         print(group)\n",
    "        cluster = {}\n",
    "        for i in centeriods:\n",
    "            cluster[i] = []\n",
    "\n",
    "        for temp in group:\n",
    "            for i in group[temp]:\n",
    "                cluster[temp].append(data[i])\n",
    "\n",
    "        # new center\n",
    "        centeriods = {}\n",
    "        for i in cluster:\n",
    "            centeriods[i] = np.average(cluster[i], axis=0)\n",
    "#         print(centeriods)\n",
    "\n",
    "    return centeriods, loss"
   ]
  },
  {
   "cell_type": "code",
   "execution_count": 18,
   "metadata": {},
   "outputs": [
    {
     "name": "stdout",
     "output_type": "stream",
     "text": [
      "908.656915501\n",
      "inf\n",
      "651.62307291\n",
      "257.03384259\n",
      "576.856717692\n",
      "74.7663552187\n",
      "572.085651687\n",
      "4.77106600441\n",
      "570.219746775\n",
      "1.86590491226\n",
      "569.886084062\n",
      "0.333662713352\n",
      "569.521865488\n",
      "0.364218573708\n",
      "568.587702872\n",
      "0.934162615711\n",
      "568.266034448\n",
      "0.321668423922\n",
      "567.805786175\n",
      "0.460248273831\n",
      "567.179552486\n",
      "0.626233688454\n",
      "566.593335055\n",
      "0.58621743091\n",
      "566.254193798\n",
      "0.339141257068\n",
      "566.346820403\n",
      "-0.092626604633\n",
      "566.346820403\n",
      "0.0\n",
      "{0: array([ 7.23975119,  2.48208269]), 1: array([ 4.83091958,  7.29959959]), 2: array([ 3.23489005,  2.5530322 ])} 1338.10760165\n"
     ]
    }
   ],
   "source": [
    "centeriods, loss = k_means(k1, i_point1, data)\n",
    "print(centeriods, loss)"
   ]
  },
  {
   "cell_type": "code",
   "execution_count": null,
   "metadata": {},
   "outputs": [],
   "source": []
  },
  {
   "cell_type": "code",
   "execution_count": null,
   "metadata": {},
   "outputs": [],
   "source": [
    "# for analysis"
   ]
  },
  {
   "cell_type": "code",
   "execution_count": 35,
   "metadata": {},
   "outputs": [],
   "source": [
    "def k_means_analysis(k, data):\n",
    "    # Initial center\n",
    "    length = len(data)\n",
    "    centeriods = {}\n",
    "    n = 0\n",
    "    delta = float(\"inf\")\n",
    "    obj_old = float(\"inf\")\n",
    "    selected = []\n",
    "\n",
    "    # for kmeans without given initial\n",
    "    while (len(centeriods) < k):\n",
    "        num = np.random.randint(length)\n",
    "        if num not in selected:\n",
    "            x1, x2 = data[num]\n",
    "            centeriods[n] = [x1, x2]\n",
    "            n += 1\n",
    "            selected.append(num)\n",
    "\n",
    "#     # for kmeansPlus\n",
    "#     centeriods[0] = i_point\n",
    "    \n",
    "#     measure = {}\n",
    "#     select = 0\n",
    "#     for i in range(1, k):\n",
    "#         value = 0\n",
    "#         for j in range(length):\n",
    "#             check = True\n",
    "#             for t in centeriods:\n",
    "#                 if centeriods[t][0] == data[j][0] and centeriods[t][1] == data[j][1]:\n",
    "#                     check = False\n",
    "            \n",
    "#             if check == True:\n",
    "#                 measure[j] = np.average([np.linalg.norm(data[j] - centeriods[p]) for p in centeriods])\n",
    "#                 if measure[j] >= value:\n",
    "#                     value = measure[j]\n",
    "#                     select = j\n",
    "\n",
    "#         centeriods[i] = data[select]\n",
    "# #         print(select)\n",
    "#     print(centeriods)\n",
    "\n",
    "    \n",
    "    while (delta != 0):\n",
    "        # grouping\n",
    "        dist = {}\n",
    "        match = {}\n",
    "        for i in range(length):\n",
    "            score = float(\"inf\")\n",
    "            for j in centeriods:\n",
    "                dist[i, j] = np.linalg.norm(data[i] - centeriods[j])\n",
    "                if dist[i, j] <= score:\n",
    "                    score = dist[i, j]\n",
    "                    match[i] = j\n",
    "        \n",
    "        obj_new = sum(dist[i, match[i]] for i in match)\n",
    "#         print(obj_new)\n",
    "        delta = obj_old - obj_new\n",
    "#         print(delta)\n",
    "        obj_old = obj_new\n",
    "        loss = sum(dist[i, match[i]]**2 for i in match)\n",
    "\n",
    "        group = {}\n",
    "        for i in centeriods:\n",
    "            group[i] = []\n",
    "        \n",
    "        \n",
    "        for temp in match:\n",
    "            group[match[temp]].append(temp)\n",
    "#         print(group)\n",
    "        cluster = {}\n",
    "        for i in centeriods:\n",
    "            cluster[i] = []\n",
    "\n",
    "        for temp in group:\n",
    "            for i in group[temp]:\n",
    "                cluster[temp].append(data[i])\n",
    "\n",
    "        # new center\n",
    "        centeriods = {}\n",
    "        for i in cluster:\n",
    "            centeriods[i] = np.average(cluster[i], axis=0)\n",
    "    print(loss)\n",
    "\n",
    "    return centeriods, loss"
   ]
  },
  {
   "cell_type": "code",
   "execution_count": null,
   "metadata": {},
   "outputs": [],
   "source": []
  },
  {
   "cell_type": "code",
   "execution_count": 51,
   "metadata": {},
   "outputs": [
    {
     "name": "stdout",
     "output_type": "stream",
     "text": [
      "2498.11356032\n",
      "1338.17037195\n",
      "1114.8716283\n",
      "598.554644366\n",
      "549.002232349\n",
      "362.933114045\n",
      "289.865700814\n",
      "276.646980876\n",
      "215.945489279\n"
     ]
    }
   ],
   "source": [
    "lossList = []\n",
    "for k in range(2,11):\n",
    "    centeriods, loss = k_means_analysis(k, data)\n",
    "    lossList.append(loss)\n",
    "    "
   ]
  },
  {
   "cell_type": "code",
   "execution_count": 52,
   "metadata": {},
   "outputs": [
    {
     "data": {
      "image/png": "[encoded data removed]",
      "text/plain": [
       "<Figure size 432x288 with 1 Axes>"
      ]
     },
     "metadata": {},
     "output_type": "display_data"
    }
   ],
   "source": [
    "plt.plot(range(2,11), lossList)\n",
    "plt.xlabel(\"number of clusters k\")\n",
    "plt.ylabel(\"Objective Function Value\", labelpad=10)\n",
    "plt.title('K-means')\n",
    "plt.show()\n"
   ]
  },
  {
   "cell_type": "code",
   "execution_count": null,
   "metadata": {},
   "outputs": [],
   "source": []
  }
 ],
 "metadata": {
  "kernelspec": {
   "display_name": "Python 3",
   "language": "python",
   "name": "python3"
  },
  "language_info": {
   "codemirror_mode": {
    "name": "ipython",
    "version": 3
   },
   "file_extension": ".py",
   "mimetype": "text/x-python",
   "name": "python",
   "nbconvert_exporter": "python",
   "pygments_lexer": "ipython3",
   "version": "3.8.12"
  }
 },
 "nbformat": 4,
 "nbformat_minor": 2
}
