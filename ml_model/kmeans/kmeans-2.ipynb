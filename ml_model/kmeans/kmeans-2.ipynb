{
 "cells": [
  {
   "cell_type": "code",
   "execution_count": 14,
   "metadata": {},
   "outputs": [],
   "source": [
    "from Precode2 import *\n",
    "import numpy\n",
    "data = np.load('AllSamples.npy')\n",
    "import matplotlib.pyplot as plt"
   ]
  },
  {
   "cell_type": "code",
   "execution_count": 16,
   "metadata": {},
   "outputs": [],
   "source": [
    "%matplotlib inline"
   ]
  },
  {
   "cell_type": "code",
   "execution_count": 17,
   "metadata": {},
   "outputs": [
    {
     "name": "stdout",
     "output_type": "stream",
     "text": [
      "Strategy 2: k and initial points\n"
     ]
    }
   ],
   "source": [
    "k1,i_point1,k2,i_point2 = initial_S2('6737') # please replace 0111 with your last four digit of your ID"
   ]
  },
  {
   "cell_type": "code",
   "execution_count": 18,
   "metadata": {},
   "outputs": [
    {
     "name": "stdout",
     "output_type": "stream",
     "text": [
      "4\n",
      "[ 3.52782703  5.73858063]\n",
      "6\n",
      "[ 6.40483149  5.60578084]\n"
     ]
    }
   ],
   "source": [
    "print(k1)\n",
    "print(i_point1)\n",
    "print(k2)\n",
    "print(i_point2)"
   ]
  },
  {
   "cell_type": "code",
   "execution_count": null,
   "metadata": {},
   "outputs": [],
   "source": []
  },
  {
   "cell_type": "code",
   "execution_count": 19,
   "metadata": {},
   "outputs": [],
   "source": [
    "def k_means(k, i_point, data):\n",
    "    # Initial center\n",
    "    length = len(data)\n",
    "    centeriods = {}\n",
    "    n = 0\n",
    "    delta = float(\"inf\")\n",
    "    obj_old = float(\"inf\")\n",
    "\n",
    "#     while (len(centeriods) < k):\n",
    "#         num = np.random.randint(length)\n",
    "#         if num not in centeriods:\n",
    "#             x1, x2 = data[num]\n",
    "#             centeriods[n] = [x1, x2]\n",
    "#             n += 1\n",
    "\n",
    "    centeriods[0] = i_point\n",
    "    \n",
    "    measure = {}\n",
    "    select = 0\n",
    "    for i in range(1, k):\n",
    "        value = 0\n",
    "        for j in range(length):\n",
    "            check = True\n",
    "            for t in centeriods:\n",
    "                if centeriods[t][0] == data[j][0] and centeriods[t][1] == data[j][1]:\n",
    "                    check = False\n",
    "            \n",
    "            if check == True:\n",
    "                measure[j] = np.average([np.linalg.norm(data[j] - centeriods[p]) for p in centeriods])\n",
    "                if measure[j] >= value:\n",
    "                    value = measure[j]\n",
    "                    select = j\n",
    "\n",
    "        centeriods[i] = data[select]\n",
    "#         print(select)\n",
    "    print(centeriods)\n",
    "    \n",
    "    while (delta != 0):\n",
    "        # grouping\n",
    "        dist = {}\n",
    "        match = {}\n",
    "        for i in range(length):\n",
    "            score = float(\"inf\")\n",
    "            for j in centeriods:\n",
    "                dist[i, j] = np.linalg.norm(data[i] - centeriods[j])\n",
    "                if dist[i, j] <= score:\n",
    "                    score = dist[i, j]\n",
    "                    match[i] = j\n",
    "        \n",
    "        obj_new = sum(dist[i, match[i]] for i in match)\n",
    "        print(obj_new)\n",
    "        delta = obj_old - obj_new\n",
    "        print(delta)\n",
    "        obj_old = obj_new\n",
    "        loss = sum(dist[i, match[i]]**2 for i in match)\n",
    "\n",
    "        group = {}\n",
    "        for i in centeriods:\n",
    "            group[i] = []\n",
    "        \n",
    "        \n",
    "        for temp in match:\n",
    "            group[match[temp]].append(temp)\n",
    "#         print(group)\n",
    "        cluster = {}\n",
    "        for i in centeriods:\n",
    "            cluster[i] = []\n",
    "\n",
    "        for temp in group:\n",
    "            for i in group[temp]:\n",
    "                cluster[temp].append(data[i])\n",
    "\n",
    "        # new center\n",
    "        centeriods = {}\n",
    "        for i in cluster:\n",
    "            centeriods[i] = np.average(cluster[i], axis=0)\n",
    "#         print(centeriods)\n",
    "\n",
    "    return centeriods, loss"
   ]
  },
  {
   "cell_type": "code",
   "execution_count": 20,
   "metadata": {},
   "outputs": [
    {
     "name": "stdout",
     "output_type": "stream",
     "text": [
      "{0: array([ 3.52782703,  5.73858063]), 1: array([ 9.26998864,  9.62492869]), 2: array([ 3.85212146, -1.08715226]), 3: array([ 2.95297924,  9.65073899])}\n",
      "768.124960464\n",
      "inf\n",
      "569.686606286\n",
      "198.438354178\n",
      "529.588939633\n",
      "40.0976666537\n",
      "517.826552265\n",
      "11.7623873679\n",
      "501.080338038\n",
      "16.7462142269\n",
      "475.942456322\n",
      "25.1378817157\n",
      "456.122133731\n",
      "19.8203225911\n",
      "452.569992255\n",
      "3.55214147633\n",
      "451.844940952\n",
      "0.725051302465\n",
      "451.664489593\n",
      "0.180451359508\n",
      "451.45658767\n",
      "0.207901922743\n",
      "451.070031259\n",
      "0.386556411169\n",
      "449.777166666\n",
      "1.29286459243\n",
      "449.685623707\n",
      "0.0915429589032\n",
      "449.454286309\n",
      "0.231337398588\n",
      "449.454286309\n",
      "0.0\n",
      "{0: array([ 3.33995748,  2.59215224]), 1: array([ 6.60345839,  7.57042104]), 2: array([ 7.38076264,  2.33245532]), 3: array([ 2.85859235,  6.93136525])} 788.269349007\n"
     ]
    }
   ],
   "source": [
    "centeriods, loss = k_means(k1, i_point1, data)\n",
    "print(centeriods, loss)"
   ]
  },
  {
   "cell_type": "code",
   "execution_count": null,
   "metadata": {},
   "outputs": [],
   "source": []
  },
  {
   "cell_type": "code",
   "execution_count": null,
   "metadata": {},
   "outputs": [],
   "source": [
    "# for analysis"
   ]
  },
  {
   "cell_type": "code",
   "execution_count": 21,
   "metadata": {},
   "outputs": [],
   "source": [
    "def k_means_analysis(k, data):\n",
    "    # Initial center\n",
    "    length = len(data)\n",
    "    centeriods = {}\n",
    "    n = 0\n",
    "    delta = float(\"inf\")\n",
    "    obj_old = float(\"inf\")\n",
    "    selected = []\n",
    "\n",
    "#     # for kmeans without given initial\n",
    "#     while (len(centeriods) < k):\n",
    "#         num = np.random.randint(length)\n",
    "#         if num not in selected:\n",
    "#             x1, x2 = data[num]\n",
    "#             centeriods[n] = [x1, x2]\n",
    "#             n += 1\n",
    "#             selected.append(num)\n",
    "\n",
    "    # for kmeansPlus\n",
    "    centeriods[0] = data[np.random.randint(length)]\n",
    "    \n",
    "    measure = {}\n",
    "    select = 0\n",
    "    for i in range(1, k):\n",
    "        value = 0\n",
    "        for j in range(length):\n",
    "            check = True\n",
    "            for t in centeriods:\n",
    "                if centeriods[t][0] == data[j][0] and centeriods[t][1] == data[j][1]:\n",
    "                    check = False\n",
    "            \n",
    "            if check == True:\n",
    "                measure[j] = np.average([np.linalg.norm(data[j] - centeriods[p]) for p in centeriods])\n",
    "                if measure[j] >= value:\n",
    "                    value = measure[j]\n",
    "                    select = j\n",
    "\n",
    "        centeriods[i] = data[select]\n",
    "#         print(select)\n",
    "#     print(centeriods)\n",
    "\n",
    "    \n",
    "    while (delta != 0):\n",
    "        # grouping\n",
    "        dist = {}\n",
    "        match = {}\n",
    "        for i in range(length):\n",
    "            score = float(\"inf\")\n",
    "            for j in centeriods:\n",
    "                dist[i, j] = np.linalg.norm(data[i] - centeriods[j])\n",
    "                if dist[i, j] <= score:\n",
    "                    score = dist[i, j]\n",
    "                    match[i] = j\n",
    "        \n",
    "        obj_new = sum(dist[i, match[i]] for i in match)\n",
    "#         print(obj_new)\n",
    "        delta = obj_old - obj_new\n",
    "#         print(delta)\n",
    "        obj_old = obj_new\n",
    "        loss = sum(dist[i, match[i]]**2 for i in match)\n",
    "\n",
    "        group = {}\n",
    "        for i in centeriods:\n",
    "            group[i] = []\n",
    "        \n",
    "        \n",
    "        for temp in match:\n",
    "            group[match[temp]].append(temp)\n",
    "#         print(group)\n",
    "        cluster = {}\n",
    "        for i in centeriods:\n",
    "            cluster[i] = []\n",
    "\n",
    "        for temp in group:\n",
    "            for i in group[temp]:\n",
    "                cluster[temp].append(data[i])\n",
    "\n",
    "        # new center\n",
    "        centeriods = {}\n",
    "        for i in cluster:\n",
    "            centeriods[i] = np.average(cluster[i], axis=0)\n",
    "    print(loss)\n",
    "\n",
    "    return centeriods, loss"
   ]
  },
  {
   "cell_type": "code",
   "execution_count": 28,
   "metadata": {},
   "outputs": [
    {
     "name": "stdout",
     "output_type": "stream",
     "text": [
      "1921.03348586\n",
      "1293.77745239\n",
      "792.724460873\n",
      "716.304746771\n",
      "462.926355825\n",
      "399.680018559\n",
      "289.932726045\n",
      "277.391433977\n",
      "182.78850958\n"
     ]
    }
   ],
   "source": [
    "lossList = []\n",
    "for k in range(2,11):\n",
    "    centeriods, loss = k_means_analysis(k, data)\n",
    "    lossList.append(loss)"
   ]
  },
  {
   "cell_type": "code",
   "execution_count": 29,
   "metadata": {},
   "outputs": [
    {
     "data": {
      "image/png": "[encoded data removed]",
      "text/plain": [
       "<Figure size 432x288 with 1 Axes>"
      ]
     },
     "metadata": {},
     "output_type": "display_data"
    }
   ],
   "source": [
    "plt.plot(range(2,11), lossList)\n",
    "plt.xlabel(\"number of clusters k\")\n",
    "plt.ylabel(\"Objective Function Value\", labelpad=10)\n",
    "plt.title('K-means++')\n",
    "plt.show()"
   ]
  },
  {
   "cell_type": "code",
   "execution_count": null,
   "metadata": {},
   "outputs": [],
   "source": []
  }
 ],
 "metadata": {
  "kernelspec": {
   "display_name": "Python 3",
   "language": "python",
   "name": "python3"
  },
  "language_info": {
   "codemirror_mode": {
    "name": "ipython",
    "version": 3
   },
   "file_extension": ".py",
   "mimetype": "text/x-python",
   "name": "python",
   "nbconvert_exporter": "python",
   "pygments_lexer": "ipython3",
   "version": "3.6.8"
  }
 },
 "nbformat": 4,
 "nbformat_minor": 2
}
